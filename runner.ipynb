{
 "cells": [
  {
   "cell_type": "markdown",
   "metadata": {},
   "source": [
    "# OPEN AI GYM\n"
   ]
  },
  {
   "cell_type": "code",
   "execution_count": 11,
   "metadata": {},
   "outputs": [],
   "source": [
    "%matplotlib inline\n",
    "\n",
    "import numpy as np\n",
    "# import torch\n",
    "import matplotlib.pyplot as plt\n",
    "from agent import Agent\n",
    "from monitor import interact\n",
    "import gym\n",
    "import numpy as np"
   ]
  },
  {
   "cell_type": "code",
   "execution_count": 22,
   "metadata": {
    "scrolled": true
   },
   "outputs": [
    {
     "name": "stdout",
     "output_type": "stream",
     "text": [
      "<TimeLimit<TaxiEnv<Taxi-v3>>>\n",
      "Episode 20000/20000 || Best average reward 8.439\n",
      "\n",
      "Episode 20000/20000 || Best average reward 8.552\n",
      "\n",
      "Episode 20000/20000 || Best average reward 8.993\n",
      "\n",
      "Episode 20000/20000 || Best average reward 8.596\n",
      "\n",
      "Episode 20000/20000 || Best average reward 8.565\n",
      "\n",
      "----------------------------------------------------------------------------------------------------\n",
      "8.624 over 5 tries\n"
     ]
    }
   ],
   "source": [
    "\n",
    "# results:\n",
    "# nA=6, alpha=0.1, epsilon=0.1, gamma=0.9   -> Episode 20000/20000 || Best average reward 5.646\n",
    "# nA=6, alpha=0.1, epsilon=0.1, gamma=0.75  -> Episode 20000/20000 || Best average reward 5.737\n",
    "# nA=6, alpha=0.1, epsilon=0.1, gamma=0.6   -> Episode 20000/20000 || Best average reward 5.675\n",
    "\n",
    "# nA=6, alpha=0.1, epsilon=0.05, gamma=0.75 -> Episode 20000/20000 || Best average reward 7.832\n",
    "# nA=6, alpha=0.1, epsilon=0.05, gamma=0.9  -> Episode 20000/20000 || Best average reward 7.564\n",
    "\n",
    "# nA=6, alpha=0.1, epsilon=0.01, gamma=0.9  -> Episode 20000/20000 || Best average reward 8.94\n",
    "# nA=6, alpha=0.1, epsilon=0.01, gamma=0.75 -> Episode 20000/20000 || Best average reward 9.392\n",
    "# nA=6, alpha=0.1, epsilon=0.01, gamma=0.6  -> Episode 20000/20000 || Best average reward 8.95\n",
    "### more realistic for 2 lines above:\n",
    "# nA=6, alpha=0.1, epsilon=0.01, gamma=0.75 -> 9.075999999999999 over 5 tries\n",
    "\n",
    "# nA=6, alpha=0.25, epsilon=0.01, gamma=0.9 -> 9.065999999999999 over 5 tries\n",
    "# nA=6, alpha=0.25, epsilon=0.01, gamma=0.75-> 8.970000000000002 over 5 tries\n",
    "# nA=6, alpha=0.5, epsilon=0.01, gamma=0.75 -> 9.056000000000001 over 5 tries\n",
    "# nA=6, alpha=0.75, epsilon=0.01, gamma=0.75-> 8.895999999999999 over 5 tries\n",
    "# epsilon:\n",
    "#epsilon = 1 - max(self.epsilon, 1 / self.episode_cntr)\n",
    "#########################################################################################\n",
    "# epsilon decay by 25% every 1000 episodes after min epsilon is reached\n",
    "# nA=6, alpha=0.1, epsilon=0.01, gamma=0.75 -> 9.044 over 5 tries\n",
    "################ Taxi-V3 ################################################################\n",
    "# epsilon decay by 90% every 500 episodes after min epsilon is reached -> 8.598 over 5 tries\n",
    "# nA=6, alpha=0.1, epsilon=0.01, gamma=0.9 \n",
    "\n",
    "# epsilon decay by 90% every 500 episodes after min epsilon is reached -> 8.53 over 5 tries\n",
    "# nA=6, alpha=0.1, epsilon=0.01, gamma=0.75\n",
    "\n",
    "# epsilon decay by 90% every 500 episodes after min epsilon is reached -> 8.495999999999999 over 5 tries\n",
    "# learning rate decay by 50% every 1000 episodes after 8k episodes\n",
    "# nA=6, alpha=0.1, epsilon=0.01, gamma=0.9\n",
    "\n",
    "env = gym.make('Taxi-v3')\n",
    "print(env)\n",
    "# agent = Agent(nA=6, alpha=0.1, epsilon=0.01, gamma=0.9)\n",
    "\n",
    "bestAvgRewards = []\n",
    "for i in range(5):\n",
    "    agent = Agent(nA=6, alpha=0.5, epsilon=0.01, gamma=0.9)\n",
    "    avg_rewards, best_avg_reward = interact(env, agent)\n",
    "    bestAvgRewards.append(best_avg_reward)\n",
    "\n",
    "print('-'*100)\n",
    "print(f\"{ np.mean(bestAvgRewards) } over 5 tries\")"
   ]
  },
  {
   "cell_type": "code",
   "execution_count": 76,
   "metadata": {},
   "outputs": [
    {
     "name": "stdout",
     "output_type": "stream",
     "text": [
      "<TimeLimit<TaxiEnv<Taxi-v3>>>\n",
      "Episode 20000/20000 || Best average reward 8.368\n",
      "\n",
      "Episode 20000/20000 || Best average reward 8.419\n",
      "\n",
      "Episode 20000/20000 || Best average reward 8.398\n",
      "\n",
      "Episode 20000/20000 || Best average reward 8.391\n",
      "\n",
      "Episode 20000/20000 || Best average reward 8.317\n",
      "\n",
      "----------------------------------------------------------------------------------------------------\n",
      "8.44 over 5 tries\n"
     ]
    }
   ],
   "source": [
    "env = gym.make('Taxi-v3')\n",
    "print(env)\n",
    "# agent = Agent(nA=6, alpha=0.1, epsilon=0.01, gamma=0.9)\n",
    "\n",
    "bestRewards = []\n",
    "avgRewards = []\n",
    "for i in range(5):\n",
    "    agent = Agent(nA=6, alpha=0.65, epsilon=0.01, gamma=0.9)\n",
    "    avg_rewards, best_avg_reward = interact(env, agent)\n",
    "    bestRewards.append(best_avg_reward)\n",
    "    avgRewards.append(avg_rewards)\n",
    "\n",
    "\n",
    "print('-'*100)\n",
    "print(f\"{ np.mean(bestAvgRewards) } over 5 tries\")"
   ]
  },
  {
   "cell_type": "code",
   "execution_count": 73,
   "metadata": {},
   "outputs": [
    {
     "data": {
      "image/png": "[encoded data removed]",
      "text/plain": [
       "<Figure size 432x288 with 1 Axes>"
      ]
     },
     "metadata": {
      "needs_background": "light"
     },
     "output_type": "display_data"
    }
   ],
   "source": [
    "avgRewards = np.asarray(avgRewards, dtype=np.float32)\n",
    "x = [ i + 1 for i in range(avgRewards[0].size)]\n",
    "fig, ax = plt.subplots()\n",
    "ax.plot(x, y)\n",
    "for y in avgRewards:\n",
    "    ax.plot(x, y)\n",
    "ax.set(xlabel='Number of Episodes', ylabel='Reward Value',\n",
    "       title='20k of episodes ran 5 times')\n",
    "ax.grid()\n",
    "# fig.savefig(\"training_rates.png\")\n",
    "plt.show()"
   ]
  },
  {
   "cell_type": "code",
   "execution_count": 108,
   "metadata": {},
   "outputs": [
    {
     "name": "stdout",
     "output_type": "stream",
     "text": [
      "(5,)\n"
     ]
    },
    {
     "data": {
      "image/png": "[encoded data removed]",
      "text/plain": [
       "<Figure size 432x288 with 1 Axes>"
      ]
     },
     "metadata": {
      "needs_background": "light"
     },
     "output_type": "display_data"
    }
   ],
   "source": [
    "bestRewards = np.asarray(bestRewards, dtype=np.float32)\n",
    "print(bestRewards.shape)\n",
    "x = [i + 1 for i in range(bestRewards.shape[0])]\n",
    "y = bestRewards\n",
    "mean = np.mean(y)\n",
    "mean_y = np.empty(len(x) + 2)\n",
    "mean_y.fill(mean)\n",
    "mean_x = [ i for i in range(len(x) + 2)]\n",
    "fig = plt.figure()\n",
    "ax = fig.add_axes([0,0,1,1])\n",
    "ax.set(xlim=(0.5, x[-1] + 0.5), ylim=(min(y) - 0.25, max(y) + 0.25))\n",
    "ax.bar(x,y)\n",
    "ax.plot(mean_x, mean_y, color='red')\n",
    "ax.set(xlabel='Test number', ylabel='Reward Value',\n",
    "       title='Individual 20k Episode Runs')\n",
    "fig.savefig(\"individual_20k_episode_runs.png\")\n",
    "plt.show()"
   ]
  },
  {
   "cell_type": "code",
   "execution_count": null,
   "metadata": {},
   "outputs": [],
   "source": []
  }
 ],
 "metadata": {
  "kernelspec": {
   "display_name": "Python 3",
   "language": "python",
   "name": "python3"
  },
  "language_info": {
   "codemirror_mode": {
    "name": "ipython",
    "version": 3
   },
   "file_extension": ".py",
   "mimetype": "text/x-python",
   "name": "python",
   "nbconvert_exporter": "python",
   "pygments_lexer": "ipython3",
   "version": "3.7.4"
  }
 },
 "nbformat": 4,
 "nbformat_minor": 2
}
